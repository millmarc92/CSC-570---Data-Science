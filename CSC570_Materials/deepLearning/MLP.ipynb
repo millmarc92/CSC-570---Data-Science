{
 "cells": [
  {
   "cell_type": "code",
   "execution_count": 1,
   "metadata": {
    "collapsed": false
   },
   "outputs": [],
   "source": [
    "\n",
    "import pandas as pd\n",
    "import numpy as np\n",
    "\n",
    "#image tools\n",
    "from matplotlib import pyplot as plt\n",
    "from PIL import Image\n",
    "\n",
    "#filesystem tools that allow for file manipulation\n",
    "import os\n",
    "from glob import glob\n",
    "\n",
    "#ML Stuff\n",
    "\n",
    "\n",
    "\n",
    "import tensorflow as tf\n",
    "\n",
    "%matplotlib inline"
   ]
  },
  {
   "cell_type": "code",
   "execution_count": 2,
   "metadata": {
    "collapsed": false
   },
   "outputs": [
    {
     "name": "stdout",
     "output_type": "stream",
     "text": [
      "Extracting MNIST_data/train-images-idx3-ubyte.gz\n",
      "Extracting MNIST_data/train-labels-idx1-ubyte.gz\n",
      "Extracting MNIST_data/t10k-images-idx3-ubyte.gz\n",
      "Extracting MNIST_data/t10k-labels-idx1-ubyte.gz\n"
     ]
    }
   ],
   "source": [
    "from tensorflow.examples.tutorials.mnist import input_data\n",
    "mnist = input_data.read_data_sets(\"MNIST_data/\", one_hot=True)"
   ]
  },
  {
   "cell_type": "code",
   "execution_count": 3,
   "metadata": {
    "collapsed": false
   },
   "outputs": [],
   "source": [
    "with tf.device('/gpu:0'):\n",
    "    graph = tf.Graph()\n",
    "    with graph.as_default():\n",
    "\n",
    "      # Variables.\n",
    "      batch_size = 128  #mini batch for SGD\n",
    "      h1_size=1024  #number of neurons in hidden layer\n",
    "      beta = .001  #regularization \n",
    "      keep_prob=.5 #probability of dropout\n",
    "      image_size = 28\n",
    "      num_labels = 10\n",
    "\n",
    "\n",
    "      # Input data. For the training data, we use a placeholder that will be fed\n",
    "      # at run time with a training minibatch.\n",
    "      tf_train_dataset = tf.placeholder(tf.float32, shape=(batch_size, image_size * image_size))\n",
    "      tf_train_labels = tf.placeholder(tf.float32, shape=(batch_size, num_labels))\n",
    "      tf_valid_dataset = tf.constant(mnist.validation.images)\n",
    "      tf_test_dataset = tf.constant(mnist.test.images)\n",
    "\n",
    "      # weights and biases for hidden layer 1\n",
    "      w_h1 = tf.Variable(\n",
    "        tf.truncated_normal([image_size * image_size, h1_size]))\n",
    "      b_h1 = tf.Variable(tf.zeros([h1_size]))\n",
    "\n",
    "      # weights and biases for output/logit layer\n",
    "      w_logit = tf.Variable(\n",
    "        tf.truncated_normal([h1_size, num_labels]))\n",
    "      b_logit = tf.Variable(tf.zeros([num_labels]))\n",
    "\n",
    "      # keep probability for dropout.   this is a variable so it can be turned on for train and off for predict\n",
    "      keep_prob = tf.placeholder(\"float\")\n",
    "\n",
    "\n",
    "      def model(data):\n",
    "            \"\"\"\n",
    "            Assembles the NN\n",
    "            \"\"\"\n",
    "            h1 = tf.nn.relu(tf.matmul(data, w_h1) + b_h1)\n",
    "            h1_drop_out = tf.nn.dropout(h1, keep_prob)\n",
    "            return tf.matmul(h1_drop_out, w_logit) + b_logit  #return the output layer\n",
    "\n",
    "\n",
    "      # Training Computations\n",
    "      logits = model(tf_train_dataset)\n",
    "      loss = tf.reduce_mean(tf.nn.softmax_cross_entropy_with_logits(logits, tf_train_labels))\n",
    "      regularized_loss = tf.nn.l2_loss(w_h1) + tf.nn.l2_loss(w_logit)\n",
    "      total_loss = loss + beta * regularized_loss\n",
    "\n",
    "      # Optimizer.\n",
    "      optimizer = tf.train.GradientDescentOptimizer(0.5).minimize(total_loss)\n",
    "\n",
    "      # Predictions for the training, validation, and test data.\n",
    "      train_prediction = tf.nn.softmax(logits)\n",
    "      valid_prediction = tf.nn.softmax(model(tf_valid_dataset))\n",
    "      test_prediction = tf.nn.softmax(model(tf_test_dataset))"
   ]
  },
  {
   "cell_type": "code",
   "execution_count": 4,
   "metadata": {
    "collapsed": true
   },
   "outputs": [],
   "source": [
    "def accuracy(predictions, labels):\n",
    "  return (100.0 * np.sum(np.argmax(predictions, 1) == np.argmax(labels, 1))\n",
    "          / predictions.shape[0])"
   ]
  },
  {
   "cell_type": "code",
   "execution_count": null,
   "metadata": {
    "collapsed": false
   },
   "outputs": [
    {
     "name": "stdout",
     "output_type": "stream",
     "text": [
      "Initialized\n",
      "Minibatch loss at step 0: 359.579590\n",
      "Minibatch accuracy: 11.7%\n",
      "Validation accuracy: 28.2%\n"
     ]
    }
   ],
   "source": [
    "num_steps = 5001\n",
    "\n",
    "with tf.Session(graph=graph, config=tf.ConfigProto(log_device_placement=True)) as session:\n",
    "  tf.initialize_all_variables().run()\n",
    "  print(\"Initialized\")\n",
    "  for step in range(num_steps):\n",
    " \n",
    "    # Generate a minibatch.\n",
    "    batch_data, batch_labels = mnist.train.next_batch(batch_size)\n",
    "\n",
    "\n",
    "    # Prepare a dictionary telling the session where to feed the minibatch.\n",
    "    # The key of the dictionary is the placeholder node of the graph to be fed,\n",
    "    # and the value is the numpy array to feed to it.\n",
    "    feed_dict = {tf_train_dataset : batch_data, tf_train_labels : batch_labels, keep_prob : .5}\n",
    "\n",
    "    _, l, predictions = session.run([optimizer, loss, train_prediction], feed_dict=feed_dict)\n",
    "    \n",
    "    if (step % 500 == 0):\n",
    "      print(\"Minibatch loss at step %d: %f\" % (step, l))\n",
    "      print(\"Minibatch accuracy: %.1f%%\" % accuracy(predictions, batch_labels))\n",
    "      print(\"Validation accuracy: %.1f%%\" % accuracy(valid_prediction.eval(feed_dict={keep_prob:1.0}), mnist.validation.labels.astype(float)))\n",
    "  print(\"Test accuracy: %.1f%%\" % accuracy(test_prediction.eval(feed_dict={keep_prob:1.0}), mnist.test.labels))"
   ]
  },
  {
   "cell_type": "code",
   "execution_count": null,
   "metadata": {
    "collapsed": true
   },
   "outputs": [],
   "source": []
  }
 ],
 "metadata": {
  "kernelspec": {
   "display_name": "Python 2",
   "language": "python",
   "name": "python2"
  },
  "language_info": {
   "codemirror_mode": {
    "name": "ipython",
    "version": 2
   },
   "file_extension": ".py",
   "mimetype": "text/x-python",
   "name": "python",
   "nbconvert_exporter": "python",
   "pygments_lexer": "ipython2",
   "version": "2.7.11"
  }
 },
 "nbformat": 4,
 "nbformat_minor": 0
}
