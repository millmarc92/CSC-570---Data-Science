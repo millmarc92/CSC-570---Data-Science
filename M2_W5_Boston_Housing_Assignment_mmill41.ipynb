{
 "cells": [
  {
   "cell_type": "markdown",
   "metadata": {},
   "source": [
    "## Boston Housing Assignment\n",
    "### Marcus Millender CSC 570\n",
    "#### mmill41\n",
    "\n",
    "In this assignment you'll be using linear regression to estimate the cost of house in boston, using a well known dataset.\n",
    "\n",
    "Goals:\n",
    "+  Measure the performance of the model I created using $R^{2}$ and MSE\n",
    "> Learn how to use sklearn.metrics.r2_score and sklearn.metrics.mean_squared_error\n",
    "+  Implement a new model using L2 regularization\n",
    "> Use sklearn.linear_model.Ridge or sklearn.linear_model.Lasso \n",
    "+  Get the best model you can by optimizing the regularization parameter.   "
   ]
  },
  {
   "cell_type": "code",
   "execution_count": 6,
   "metadata": {
    "collapsed": false
   },
   "outputs": [],
   "source": [
    "from sklearn import datasets\n",
    "import pandas as pd\n",
    "from sklearn.preprocessing import StandardScaler\n",
    "from sklearn.cross_validation import train_test_split\n",
    "from sklearn.metrics import mean_squared_error\n",
    "from sklearn.metrics import r2_score\n",
    "from sklearn.linear_model import LinearRegression"
   ]
  },
  {
   "cell_type": "code",
   "execution_count": 8,
   "metadata": {
    "collapsed": false
   },
   "outputs": [
    {
     "name": "stdout",
     "output_type": "stream",
     "text": [
      "Boston House Prices dataset\n",
      "\n",
      "Notes\n",
      "------\n",
      "Data Set Characteristics:  \n",
      "\n",
      "    :Number of Instances: 506 \n",
      "\n",
      "    :Number of Attributes: 13 numeric/categorical predictive\n",
      "    \n",
      "    :Median Value (attribute 14) is usually the target\n",
      "\n",
      "    :Attribute Information (in order):\n",
      "        - CRIM     per capita crime rate by town\n",
      "        - ZN       proportion of residential land zoned for lots over 25,000 sq.ft.\n",
      "        - INDUS    proportion of non-retail business acres per town\n",
      "        - CHAS     Charles River dummy variable (= 1 if tract bounds river; 0 otherwise)\n",
      "        - NOX      nitric oxides concentration (parts per 10 million)\n",
      "        - RM       average number of rooms per dwelling\n",
      "        - AGE      proportion of owner-occupied units built prior to 1940\n",
      "        - DIS      weighted distances to five Boston employment centres\n",
      "        - RAD      index of accessibility to radial highways\n",
      "        - TAX      full-value property-tax rate per $10,000\n",
      "        - PTRATIO  pupil-teacher ratio by town\n",
      "        - B        1000(Bk - 0.63)^2 where Bk is the proportion of blacks by town\n",
      "        - LSTAT    % lower status of the population\n",
      "        - MEDV     Median value of owner-occupied homes in $1000's\n",
      "\n",
      "    :Missing Attribute Values: None\n",
      "\n",
      "    :Creator: Harrison, D. and Rubinfeld, D.L.\n",
      "\n",
      "This is a copy of UCI ML housing dataset.\n",
      "http://archive.ics.uci.edu/ml/datasets/Housing\n",
      "\n",
      "\n",
      "This dataset was taken from the StatLib library which is maintained at Carnegie Mellon University.\n",
      "\n",
      "The Boston house-price data of Harrison, D. and Rubinfeld, D.L. 'Hedonic\n",
      "prices and the demand for clean air', J. Environ. Economics & Management,\n",
      "vol.5, 81-102, 1978.   Used in Belsley, Kuh & Welsch, 'Regression diagnostics\n",
      "...', Wiley, 1980.   N.B. Various transformations are used in the table on\n",
      "pages 244-261 of the latter.\n",
      "\n",
      "The Boston house-price data has been used in many machine learning papers that address regression\n",
      "problems.   \n",
      "     \n",
      "**References**\n",
      "\n",
      "   - Belsley, Kuh & Welsch, 'Regression diagnostics: Identifying Influential Data and Sources of Collinearity', Wiley, 1980. 244-261.\n",
      "   - Quinlan,R. (1993). Combining Instance-Based and Model-Based Learning. In Proceedings on the Tenth International Conference of Machine Learning, 236-243, University of Massachusetts, Amherst. Morgan Kaufmann.\n",
      "   - many more! (see http://archive.ics.uci.edu/ml/datasets/Housing)\n",
      "\n"
     ]
    }
   ],
   "source": [
    "bean = datasets.load_boston()\n",
    "print(bean.DESCR)"
   ]
  },
  {
   "cell_type": "code",
   "execution_count": 9,
   "metadata": {
    "collapsed": false
   },
   "outputs": [],
   "source": [
    "def load_boston():\n",
    "    scaler = StandardScaler()\n",
    "    boston = datasets.load_boston()\n",
    "    X=boston.data\n",
    "    y=boston.target\n",
    "    X = scaler.fit_transform(X)\n",
    "    return train_test_split(X,y)\n",
    "    "
   ]
  },
  {
   "cell_type": "code",
   "execution_count": 10,
   "metadata": {
    "collapsed": false
   },
   "outputs": [],
   "source": [
    "X_train, X_test, y_train, y_test = load_boston()"
   ]
  },
  {
   "cell_type": "code",
   "execution_count": 11,
   "metadata": {
    "collapsed": false
   },
   "outputs": [
    {
     "data": {
      "text/plain": [
       "(379, 13)"
      ]
     },
     "execution_count": 11,
     "metadata": {},
     "output_type": "execute_result"
    }
   ],
   "source": [
    "X_train.shape"
   ]
  },
  {
   "cell_type": "markdown",
   "metadata": {},
   "source": [
    "### Fitting a Linear Regression\n",
    "\n",
    "It's as easy as instantiating a new regression object (line 1) and giving your regression object your training data\n",
    "(line 2) by calling .fit(independent variables, dependent variable)\n",
    "\n"
   ]
  },
  {
   "cell_type": "code",
   "execution_count": 12,
   "metadata": {
    "collapsed": false
   },
   "outputs": [
    {
     "data": {
      "text/plain": [
       "LinearRegression(copy_X=True, fit_intercept=True, n_jobs=1, normalize=False)"
      ]
     },
     "execution_count": 12,
     "metadata": {},
     "output_type": "execute_result"
    }
   ],
   "source": [
    "\n",
    "clf = LinearRegression()\n",
    "clf.fit(X_train, y_train)"
   ]
  },
  {
   "cell_type": "markdown",
   "metadata": {},
   "source": [
    "### Making a Prediction\n",
    "X_test is our holdout set of data.  We know the answer (y_test) but the computer does not.   \n",
    "\n",
    "Using the command below, I create a tuple for each observation, where I'm combining the real value (y_test) with\n",
    "the value our regressor predicts (clf.predict(X_test))\n",
    "\n",
    "Use a similiar format to get your r2 and mse metrics working.  Using the [scikit learn api](http://scikit-learn.org/stable/modules/model_evaluation.html) if you need help!"
   ]
  },
  {
   "cell_type": "code",
   "execution_count": 13,
   "metadata": {
    "collapsed": false
   },
   "outputs": [
    {
     "data": {
      "text/plain": [
       "[(33.0, 23.386754584408742),\n",
       " (43.5, 38.816841847195789),\n",
       " (8.6999999999999993, 8.7711867931775878),\n",
       " (33.299999999999997, 36.503318172347754),\n",
       " (19.399999999999999, 19.305759898657662),\n",
       " (29.100000000000001, 30.142894312553416),\n",
       " (19.5, 18.136046941719123),\n",
       " (17.5, 16.695240627945374),\n",
       " (21.600000000000001, 25.094682395300083),\n",
       " (28.699999999999999, 25.194360959081852),\n",
       " (8.8000000000000007, 2.9653947381990378),\n",
       " (22.0, 27.251699454619899),\n",
       " (50.0, 33.359221546580656),\n",
       " (16.100000000000001, 22.410830345016628),\n",
       " (35.100000000000001, 35.101349761625897),\n",
       " (18.5, 18.902500063882655),\n",
       " (14.4, 3.0597300466773945),\n",
       " (20.300000000000001, 23.463547031640879),\n",
       " (16.199999999999999, 20.487485395560526),\n",
       " (13.1, 13.627438833354191),\n",
       " (25.0, 29.275733166026587),\n",
       " (7.0, -4.4141301653489045),\n",
       " (48.799999999999997, 40.111206216538697),\n",
       " (19.5, 16.619817576657198),\n",
       " (20.5, 24.286051892425569),\n",
       " (18.600000000000001, 20.186589134134302),\n",
       " (7.5, 13.268512107926334),\n",
       " (20.0, 23.363712330820299),\n",
       " (25.300000000000001, 25.014617662690842),\n",
       " (18.699999999999999, 21.011738905831493),\n",
       " (18.899999999999999, 18.990611364110979),\n",
       " (27.5, 15.325265580575511),\n",
       " (8.3000000000000007, 12.893943673053545),\n",
       " (23.199999999999999, 27.438634839246703),\n",
       " (18.5, 13.539837767636037),\n",
       " (17.399999999999999, 23.121679689735313),\n",
       " (10.4, 6.962391469366759),\n",
       " (36.200000000000003, 27.616421996192834),\n",
       " (34.700000000000003, 30.552556728346737),\n",
       " (20.800000000000001, 18.439206141033594),\n",
       " (25.0, 27.69227122393896),\n",
       " (26.399999999999999, 28.828313757121599),\n",
       " (23.699999999999999, 9.7098453524731667),\n",
       " (20.800000000000001, 23.617998359209892),\n",
       " (10.199999999999999, 17.188714476682293),\n",
       " (20.399999999999999, 19.319222456569612),\n",
       " (33.200000000000003, 35.515317417178267),\n",
       " (20.5, 20.431900696585551),\n",
       " (19.5, 19.664369220549275),\n",
       " (50.0, 44.540778355306081),\n",
       " (28.399999999999999, 30.230725804972266),\n",
       " (22.5, 29.650368574498192),\n",
       " (21.199999999999999, 22.564850731571262),\n",
       " (20.100000000000001, 18.814066030804611),\n",
       " (25.0, 24.868688084241711),\n",
       " (24.199999999999999, 25.182216305495349),\n",
       " (24.0, 25.050624571508401),\n",
       " (20.100000000000001, 21.149807889343894),\n",
       " (23.100000000000001, 15.819291876378861),\n",
       " (11.5, 14.012578984261854),\n",
       " (17.5, 17.949863779245831),\n",
       " (22.199999999999999, 21.805211163755068),\n",
       " (24.5, 27.674411819401204),\n",
       " (17.100000000000001, 19.970413281085253),\n",
       " (23.300000000000001, 25.212090246391071),\n",
       " (26.399999999999999, 22.328079551894273),\n",
       " (18.100000000000001, 17.021747721437016),\n",
       " (14.6, 7.1970372337361113),\n",
       " (10.4, 14.12458797910044),\n",
       " (34.899999999999999, 34.006834548558601),\n",
       " (21.100000000000001, 20.135097985789997),\n",
       " (18.399999999999999, 19.193805565367523),\n",
       " (23.800000000000001, 24.670310490125605),\n",
       " (27.0, 33.55614246820415),\n",
       " (16.800000000000001, 19.940946379797325),\n",
       " (36.399999999999999, 33.132387687788444),\n",
       " (20.100000000000001, 23.970961379273518),\n",
       " (13.4, 13.660188126903805),\n",
       " (17.199999999999999, 13.638322593469658),\n",
       " (17.800000000000001, 19.234599618400726),\n",
       " (23.699999999999999, 27.526400738086632),\n",
       " (23.899999999999999, 26.122246521384856),\n",
       " (15.6, 10.884991925170315),\n",
       " (9.5, 13.137096494254447),\n",
       " (21.800000000000001, 20.072827337835115),\n",
       " (43.799999999999997, 34.474384128931419),\n",
       " (20.699999999999999, 25.429180385059766),\n",
       " (50.0, 43.024753944070945),\n",
       " (21.899999999999999, 15.896463989358974),\n",
       " (24.100000000000001, 25.551000669429655),\n",
       " (31.100000000000001, 32.049580076436058),\n",
       " (8.4000000000000004, 4.1861764757627995),\n",
       " (20.0, 21.989580884326728),\n",
       " (19.600000000000001, 21.155074309695696),\n",
       " (14.4, 8.5043971005454253),\n",
       " (22.600000000000001, 22.291548590686066),\n",
       " (23.600000000000001, 30.483861628845311),\n",
       " (21.699999999999999, 20.531910817242437),\n",
       " (14.9, 15.60868314299951),\n",
       " (20.399999999999999, 20.13315858667978),\n",
       " (14.6, 19.324274530751435),\n",
       " (17.199999999999999, 17.513950752583288),\n",
       " (21.5, 24.788820779427031),\n",
       " (12.0, 11.587908787995168),\n",
       " (18.199999999999999, 18.062001547375779),\n",
       " (28.100000000000001, 24.885175671686046),\n",
       " (22.699999999999999, 25.287374541810525),\n",
       " (8.5, 16.115801987614141),\n",
       " (21.600000000000001, 25.534124213521793),\n",
       " (14.9, 17.408356120266522),\n",
       " (50.0, 35.075078282204665),\n",
       " (33.399999999999999, 28.388499650179952),\n",
       " (18.600000000000001, 17.341009667612454),\n",
       " (50.0, 37.622996282705046),\n",
       " (22.600000000000001, 24.042840917241005),\n",
       " (23.100000000000001, 24.705980186372766),\n",
       " (16.699999999999999, 20.464906806137662),\n",
       " (28.699999999999999, 28.445793315608718),\n",
       " (24.300000000000001, 24.326566415663098),\n",
       " (19.800000000000001, 21.552693356593938),\n",
       " (21.800000000000001, 21.675247303841104),\n",
       " (14.5, 13.242921554848515),\n",
       " (13.4, 16.89658242766949),\n",
       " (39.799999999999997, 33.986023602254974),\n",
       " (10.9, 14.764569591817274),\n",
       " (6.2999999999999998, 9.9537126674657124),\n",
       " (18.699999999999999, 20.445945478401164)]"
      ]
     },
     "execution_count": 13,
     "metadata": {},
     "output_type": "execute_result"
    }
   ],
   "source": [
    "list(zip (y_test, clf.predict(X_test)))"
   ]
  },
  {
   "cell_type": "markdown",
   "metadata": {},
   "source": [
    "# HOMEWORK MODULE 2 - W5\n",
    "+ Marcus Millender\n",
    "+ mmill41"
   ]
  },
  {
   "cell_type": "markdown",
   "metadata": {
    "collapsed": false
   },
   "source": [
    "### Measure the performance of the model I created using  $R^{2}$ and MSE\n",
    "+ Learn how to use sklearn.metrics.r2_score and sklearn.metrics.mean_squared_error"
   ]
  },
  {
   "cell_type": "code",
   "execution_count": 18,
   "metadata": {
    "collapsed": false
   },
   "outputs": [
    {
     "name": "stdout",
     "output_type": "stream",
     "text": [
      "LinearRegression R2 Score is:  0.739401396721\n",
      "LinearRegression MSE is:  23.3506100991\n"
     ]
    }
   ],
   "source": [
    "r2Score=r2_score(y_test, clf.predict(X_test))\n",
    "mse=mean_squared_error(y_test, clf.predict(X_test))\n",
    "print(\"LinearRegression R2 Score is: \", r2Score)\n",
    "print(\"LinearRegression MSE is: \", mse)"
   ]
  },
  {
   "cell_type": "markdown",
   "metadata": {},
   "source": [
    "### Implement a new model using L2 regularization\n",
    "+ Use sklearn.linear_model.Ridge or sklearn.linear_model.Lasso"
   ]
  },
  {
   "cell_type": "code",
   "execution_count": 17,
   "metadata": {
    "collapsed": true
   },
   "outputs": [],
   "source": [
    "from sklearn.linear_model import Lasso"
   ]
  },
  {
   "cell_type": "code",
   "execution_count": 22,
   "metadata": {
    "collapsed": false
   },
   "outputs": [
    {
     "name": "stdout",
     "output_type": "stream",
     "text": [
      "Lasso R2 Score is:  0.737854497165\n",
      "Lasso MSE is:  23.4892180883\n"
     ]
    }
   ],
   "source": [
    "#alpha 0.1\n",
    "lasso = Lasso(alpha=0.1)\n",
    "lasso.fit(X_train, y_train)\n",
    "r2Score=r2_score(y_test, lasso.predict(X_test))\n",
    "mse=mean_squared_error(y_test, lasso.predict(X_test))\n",
    "print(\"Lasso R2 Score is: \", r2Score)\n",
    "print(\"Lasso MSE is: \", mse)"
   ]
  },
  {
   "cell_type": "markdown",
   "metadata": {},
   "source": [
    "### Get the best model you can by optimizing the regularization parameter"
   ]
  },
  {
   "cell_type": "code",
   "execution_count": 27,
   "metadata": {
    "collapsed": false
   },
   "outputs": [
    {
     "name": "stdout",
     "output_type": "stream",
     "text": [
      "Lasso R2 Score is:  0.74201029497\n",
      "Lasso MSE is:  23.1168430526\n"
     ]
    }
   ],
   "source": [
    "#alpha 0.05\n",
    "lasso = Lasso(alpha=0.05)\n",
    "lasso.fit(X_train, y_train)\n",
    "r2Score=r2_score(y_test, lasso.predict(X_test))\n",
    "mse=mean_squared_error(y_test, lasso.predict(X_test))\n",
    "print(\"Lasso R2 Score is: \", r2Score)\n",
    "print(\"Lasso MSE is: \", mse)"
   ]
  },
  {
   "cell_type": "code",
   "execution_count": 28,
   "metadata": {
    "collapsed": false
   },
   "outputs": [
    {
     "name": "stdout",
     "output_type": "stream",
     "text": [
      "Lasso R2 Score is:  0.740927567043\n",
      "Lasso MSE is:  23.2138595269\n"
     ]
    }
   ],
   "source": [
    "#alpha 0.02\n",
    "lasso = Lasso(alpha=0.02)\n",
    "lasso.fit(X_train, y_train)\n",
    "r2Score=r2_score(y_test, lasso.predict(X_test))\n",
    "mse=mean_squared_error(y_test, lasso.predict(X_test))\n",
    "print(\"Lasso R2 Score is: \", r2Score)\n",
    "print(\"Lasso MSE is: \", mse)"
   ]
  },
  {
   "cell_type": "code",
   "execution_count": 29,
   "metadata": {
    "collapsed": false
   },
   "outputs": [
    {
     "name": "stdout",
     "output_type": "stream",
     "text": [
      "Lasso R2 Score is:  0.740245694449\n",
      "Lasso MSE is:  23.2749578631\n"
     ]
    }
   ],
   "source": [
    "#alpha 0.01\n",
    "lasso = Lasso(alpha=0.01)\n",
    "lasso.fit(X_train, y_train)\n",
    "r2Score=r2_score(y_test, lasso.predict(X_test))\n",
    "mse=mean_squared_error(y_test, lasso.predict(X_test))\n",
    "print(\"Lasso R2 Score is: \", r2Score)\n",
    "print(\"Lasso MSE is: \", mse)"
   ]
  },
  {
   "cell_type": "markdown",
   "metadata": {},
   "source": [
    "## Conclusion\n",
    "+ There is no significant deviation from the original R2Score/MSE."
   ]
  },
  {
   "cell_type": "code",
   "execution_count": null,
   "metadata": {
    "collapsed": true
   },
   "outputs": [],
   "source": []
  }
 ],
 "metadata": {
  "kernelspec": {
   "display_name": "Python [default]",
   "language": "python",
   "name": "python3"
  },
  "language_info": {
   "codemirror_mode": {
    "name": "ipython",
    "version": 3
   },
   "file_extension": ".py",
   "mimetype": "text/x-python",
   "name": "python",
   "nbconvert_exporter": "python",
   "pygments_lexer": "ipython3",
   "version": "3.5.2"
  }
 },
 "nbformat": 4,
 "nbformat_minor": 0
}
