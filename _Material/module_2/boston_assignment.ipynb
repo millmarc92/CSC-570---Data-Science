{
 "cells": [
  {
   "cell_type": "markdown",
   "metadata": {},
   "source": [
    "## Boston Housing Assignment\n",
    "\n",
    "In this assignment you'll be using linear regression to estimate the cost of house in boston, using a well known dataset.\n",
    "\n",
    "Goals:\n",
    "+  Measure the performance of the model I created using $R^{2}$ and MSE\n",
    "> Learn how to use sklearn.metrics.r2_score and sklearn.metrics.mean_squared_error\n",
    "+  Implement a new model using L2 regularization\n",
    "> Use sklearn.linear_model.Ridge or sklearn.linear_model.Lasso \n",
    "+  Get the best model you can by optimizing the regularization parameter.   "
   ]
  },
  {
   "cell_type": "code",
   "execution_count": 1,
   "metadata": {
    "collapsed": false
   },
   "outputs": [],
   "source": [
    "from sklearn import datasets\n",
    "import pandas as pd\n",
    "from sklearn.preprocessing import StandardScaler\n",
    "from sklearn.cross_validation import train_test_split\n",
    "from sklearn.metrics import mean_squared_error\n",
    "from sklearn.metrics import r2_score\n",
    "from sklearn.linear_model import LinearRegression"
   ]
  },
  {
   "cell_type": "code",
   "execution_count": 3,
   "metadata": {
    "collapsed": false
   },
   "outputs": [
    {
     "name": "stdout",
     "output_type": "stream",
     "text": [
      "Boston House Prices dataset\n",
      "\n",
      "Notes\n",
      "------\n",
      "Data Set Characteristics:  \n",
      "\n",
      "    :Number of Instances: 506 \n",
      "\n",
      "    :Number of Attributes: 13 numeric/categorical predictive\n",
      "    \n",
      "    :Median Value (attribute 14) is usually the target\n",
      "\n",
      "    :Attribute Information (in order):\n",
      "        - CRIM     per capita crime rate by town\n",
      "        - ZN       proportion of residential land zoned for lots over 25,000 sq.ft.\n",
      "        - INDUS    proportion of non-retail business acres per town\n",
      "        - CHAS     Charles River dummy variable (= 1 if tract bounds river; 0 otherwise)\n",
      "        - NOX      nitric oxides concentration (parts per 10 million)\n",
      "        - RM       average number of rooms per dwelling\n",
      "        - AGE      proportion of owner-occupied units built prior to 1940\n",
      "        - DIS      weighted distances to five Boston employment centres\n",
      "        - RAD      index of accessibility to radial highways\n",
      "        - TAX      full-value property-tax rate per $10,000\n",
      "        - PTRATIO  pupil-teacher ratio by town\n",
      "        - B        1000(Bk - 0.63)^2 where Bk is the proportion of blacks by town\n",
      "        - LSTAT    % lower status of the population\n",
      "        - MEDV     Median value of owner-occupied homes in $1000's\n",
      "\n",
      "    :Missing Attribute Values: None\n",
      "\n",
      "    :Creator: Harrison, D. and Rubinfeld, D.L.\n",
      "\n",
      "This is a copy of UCI ML housing dataset.\n",
      "http://archive.ics.uci.edu/ml/datasets/Housing\n",
      "\n",
      "\n",
      "This dataset was taken from the StatLib library which is maintained at Carnegie Mellon University.\n",
      "\n",
      "The Boston house-price data of Harrison, D. and Rubinfeld, D.L. 'Hedonic\n",
      "prices and the demand for clean air', J. Environ. Economics & Management,\n",
      "vol.5, 81-102, 1978.   Used in Belsley, Kuh & Welsch, 'Regression diagnostics\n",
      "...', Wiley, 1980.   N.B. Various transformations are used in the table on\n",
      "pages 244-261 of the latter.\n",
      "\n",
      "The Boston house-price data has been used in many machine learning papers that address regression\n",
      "problems.   \n",
      "     \n",
      "**References**\n",
      "\n",
      "   - Belsley, Kuh & Welsch, 'Regression diagnostics: Identifying Influential Data and Sources of Collinearity', Wiley, 1980. 244-261.\n",
      "   - Quinlan,R. (1993). Combining Instance-Based and Model-Based Learning. In Proceedings on the Tenth International Conference of Machine Learning, 236-243, University of Massachusetts, Amherst. Morgan Kaufmann.\n",
      "   - many more! (see http://archive.ics.uci.edu/ml/datasets/Housing)\n",
      "\n"
     ]
    }
   ],
   "source": [
    "bean = datasets.load_boston()\n",
    "print(bean.DESCR)"
   ]
  },
  {
   "cell_type": "code",
   "execution_count": 4,
   "metadata": {
    "collapsed": false
   },
   "outputs": [],
   "source": [
    "def load_boston():\n",
    "    scaler = StandardScaler()\n",
    "    boston = datasets.load_boston()\n",
    "    X=boston.data\n",
    "    y=boston.target\n",
    "    X = scaler.fit_transform(X)\n",
    "    return train_test_split(X,y)\n",
    "    "
   ]
  },
  {
   "cell_type": "code",
   "execution_count": 5,
   "metadata": {
    "collapsed": false
   },
   "outputs": [],
   "source": [
    "X_train, X_test, y_train, y_test = load_boston()"
   ]
  },
  {
   "cell_type": "code",
   "execution_count": 6,
   "metadata": {
    "collapsed": false
   },
   "outputs": [
    {
     "data": {
      "text/plain": [
       "(379, 13)"
      ]
     },
     "execution_count": 6,
     "metadata": {},
     "output_type": "execute_result"
    }
   ],
   "source": [
    "X_train.shape"
   ]
  },
  {
   "cell_type": "markdown",
   "metadata": {},
   "source": [
    "### Fitting a Linear Regression\n",
    "\n",
    "It's as easy as instantiating a new regression object (line 1) and giving your regression object your training data\n",
    "(line 2) by calling .fit(independent variables, dependent variable)\n",
    "\n"
   ]
  },
  {
   "cell_type": "code",
   "execution_count": 7,
   "metadata": {
    "collapsed": false
   },
   "outputs": [
    {
     "data": {
      "text/plain": [
       "LinearRegression(copy_X=True, fit_intercept=True, n_jobs=1, normalize=False)"
      ]
     },
     "execution_count": 7,
     "metadata": {},
     "output_type": "execute_result"
    }
   ],
   "source": [
    "\n",
    "clf = LinearRegression()\n",
    "clf.fit(X_train, y_train)"
   ]
  },
  {
   "cell_type": "markdown",
   "metadata": {},
   "source": [
    "### Making a Prediction\n",
    "X_test is our holdout set of data.  We know the answer (y_test) but the computer does not.   \n",
    "\n",
    "Using the command below, I create a tuple for each observation, where I'm combining the real value (y_test) with\n",
    "the value our regressor predicts (clf.predict(X_test))\n",
    "\n",
    "Use a similiar format to get your r2 and mse metrics working.  Using the [scikit learn api](http://scikit-learn.org/stable/modules/model_evaluation.html) if you need help!"
   ]
  },
  {
   "cell_type": "code",
   "execution_count": 11,
   "metadata": {
    "collapsed": false
   },
   "outputs": [
    {
     "data": {
      "text/plain": [
       "[(10.199999999999999, 16.52858666450101),\n",
       " (22.600000000000001, 19.027966904632795),\n",
       " (50.0, 25.643252700435799),\n",
       " (18.5, 19.393742627813779),\n",
       " (24.300000000000001, 24.228854776738174),\n",
       " (7.5, 12.869890524886411),\n",
       " (36.200000000000003, 27.418374573663506),\n",
       " (14.1, 15.534507626052225),\n",
       " (19.899999999999999, 20.249590966812711),\n",
       " (7.0, -5.1704878665840894),\n",
       " (32.700000000000003, 29.983066268575008),\n",
       " (24.800000000000001, 30.839934317970879),\n",
       " (24.0, 24.986571162879365),\n",
       " (21.5, 24.625019940743808),\n",
       " (43.799999999999997, 34.569150121989594),\n",
       " (19.800000000000001, 22.558811583743619),\n",
       " (13.4, 16.217198244595608),\n",
       " (37.299999999999997, 34.964872633430311),\n",
       " (14.9, 14.913171381542938),\n",
       " (16.300000000000001, 11.659197445308205),\n",
       " (10.4, 13.113629040783547),\n",
       " (22.199999999999999, 24.025578167118141),\n",
       " (19.600000000000001, 18.363780205668405),\n",
       " (20.100000000000001, 23.72213898150288),\n",
       " (12.6, 17.888712199521468),\n",
       " (17.300000000000001, 17.389807100240944),\n",
       " (30.699999999999999, 30.570459816414605),\n",
       " (19.300000000000001, 21.984914816812548),\n",
       " (18.800000000000001, 21.767140437823866),\n",
       " (29.600000000000001, 24.705158416055991),\n",
       " (43.100000000000001, 36.646300880562329),\n",
       " (35.399999999999999, 31.413275359386549),\n",
       " (23.800000000000001, 26.848872571865964),\n",
       " (16.699999999999999, 19.412656149420542),\n",
       " (44.799999999999997, 38.044296114470754),\n",
       " (28.699999999999999, 24.901466433784098),\n",
       " (23.0, 23.479997630340122),\n",
       " (23.100000000000001, 16.423486788153362),\n",
       " (22.800000000000001, 26.336199581369087),\n",
       " (23.300000000000001, 26.273485567015829),\n",
       " (18.399999999999999, 18.577069184876084),\n",
       " (19.800000000000001, 20.874956463123944),\n",
       " (14.300000000000001, 16.807240922645533),\n",
       " (28.199999999999999, 32.668014329931481),\n",
       " (9.5999999999999996, 14.102277134587609),\n",
       " (23.300000000000001, 21.710715337032134),\n",
       " (18.699999999999999, 21.217102737007973),\n",
       " (37.899999999999999, 33.631103102315961),\n",
       " (29.399999999999999, 30.233167827707149),\n",
       " (22.300000000000001, 27.486680021180636),\n",
       " (19.100000000000001, 16.856005891367044),\n",
       " (14.1, 18.544025848312568),\n",
       " (11.9, 22.621330629552812),\n",
       " (17.399999999999999, 16.470602627746882),\n",
       " (34.899999999999999, 34.322192411614807),\n",
       " (29.100000000000001, 31.677781846693314),\n",
       " (20.600000000000001, 22.599551157032906),\n",
       " (33.100000000000001, 34.537136103232697),\n",
       " (17.199999999999999, 14.288337892482277),\n",
       " (22.5, 21.820070664759672),\n",
       " (50.0, 39.428365401832174),\n",
       " (41.299999999999997, 33.810502291732341),\n",
       " (25.0, 29.825627599514625),\n",
       " (20.300000000000001, 22.628626109851346),\n",
       " (12.699999999999999, 11.175310331474579),\n",
       " (22.600000000000001, 23.506075420381947),\n",
       " (19.5, 19.61467448105941),\n",
       " (24.100000000000001, 29.492946731702865),\n",
       " (16.199999999999999, 15.814590674129585),\n",
       " (37.0, 30.494359057622486),\n",
       " (27.899999999999999, 20.089954944861233),\n",
       " (8.8000000000000007, 2.8801129226461342),\n",
       " (24.300000000000001, 19.909773855568005),\n",
       " (20.0, 23.178482242934987),\n",
       " (32.899999999999999, 30.74724652879976),\n",
       " (20.100000000000001, 20.267878920209416),\n",
       " (22.199999999999999, 19.070172533615636),\n",
       " (20.5, 24.006757703223002),\n",
       " (13.0, 16.975013319201935),\n",
       " (22.0, 28.923158832004773),\n",
       " (17.800000000000001, 17.4637668597857),\n",
       " (16.100000000000001, 21.587099660547402),\n",
       " (19.0, 14.29259853988664),\n",
       " (19.399999999999999, 23.33037272374947),\n",
       " (15.6, 11.859991466264676),\n",
       " (38.700000000000003, 35.342551574918694),\n",
       " (25.199999999999999, 27.245357315425171),\n",
       " (16.100000000000001, 18.473933297982203),\n",
       " (18.5, 13.280519832528324),\n",
       " (21.199999999999999, 21.390824090369964),\n",
       " (28.699999999999999, 30.402862587815441),\n",
       " (31.699999999999999, 33.027040733341742),\n",
       " (21.600000000000001, 25.614200108856291),\n",
       " (33.399999999999999, 28.177596367274965),\n",
       " (14.5, 18.113430796424115),\n",
       " (24.5, 20.276083087991555),\n",
       " (17.899999999999999, 1.4033601892366256),\n",
       " (19.300000000000001, 20.585449791756051),\n",
       " (13.800000000000001, 5.7838923653331555),\n",
       " (19.399999999999999, 17.050531782537071),\n",
       " (20.0, 18.372393439976431),\n",
       " (10.9, 18.162798943662843),\n",
       " (24.399999999999999, 24.056721169528423),\n",
       " (48.799999999999997, 40.386287520385302),\n",
       " (20.399999999999999, 22.766680294252637),\n",
       " (50.0, 35.379253935484883),\n",
       " (24.100000000000001, 20.390688299742639),\n",
       " (19.5, 18.439368779331414),\n",
       " (19.100000000000001, 16.966421752071316),\n",
       " (23.899999999999999, 26.059679016470291),\n",
       " (23.199999999999999, 22.524608113325797),\n",
       " (19.600000000000001, 17.562595811227254),\n",
       " (23.100000000000001, 24.764223782461027),\n",
       " (21.800000000000001, 20.405789966317613),\n",
       " (7.0, 8.850520786624454),\n",
       " (28.5, 34.043532858563808),\n",
       " (26.600000000000001, 21.806628393323813),\n",
       " (18.300000000000001, 20.236659399476711),\n",
       " (28.699999999999999, 28.624300434710747),\n",
       " (21.399999999999999, 24.351550625278492),\n",
       " (24.600000000000001, 28.814861146275753),\n",
       " (13.1, 20.142608750691586),\n",
       " (20.600000000000001, 21.422859799213374),\n",
       " (22.600000000000001, 26.724892524713059),\n",
       " (26.600000000000001, 27.554457005176534),\n",
       " (17.100000000000001, 19.963118126458383),\n",
       " (25.0, 22.588865771187884)]"
      ]
     },
     "execution_count": 11,
     "metadata": {},
     "output_type": "execute_result"
    }
   ],
   "source": [
    "list(zip (y_test, clf.predict(X_test)))"
   ]
  },
  {
   "cell_type": "code",
   "execution_count": null,
   "metadata": {
    "collapsed": false
   },
   "outputs": [],
   "source": []
  }
 ],
 "metadata": {
  "kernelspec": {
   "display_name": "Python 3",
   "language": "python",
   "name": "python3"
  },
  "language_info": {
   "codemirror_mode": {
    "name": "ipython",
    "version": 3
   },
   "file_extension": ".py",
   "mimetype": "text/x-python",
   "name": "python",
   "nbconvert_exporter": "python",
   "pygments_lexer": "ipython3",
   "version": "3.5.1"
  }
 },
 "nbformat": 4,
 "nbformat_minor": 0
}
