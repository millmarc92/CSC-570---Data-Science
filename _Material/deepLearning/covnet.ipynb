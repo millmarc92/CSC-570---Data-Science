{
 "cells": [
  {
   "cell_type": "code",
   "execution_count": 4,
   "metadata": {
    "collapsed": false
   },
   "outputs": [],
   "source": [
    "\n",
    "import pandas as pd\n",
    "import numpy as np\n",
    "\n",
    "#image tools\n",
    "from matplotlib import pyplot as plt\n",
    "from PIL import Image\n",
    "\n",
    "#filesystem tools that allow for file manipulation\n",
    "import os\n",
    "from glob import glob\n",
    "\n",
    "#ML Stuff\n",
    "\n",
    "\n",
    "\n",
    "import tensorflow as tf\n",
    "\n",
    "%matplotlib inline"
   ]
  },
  {
   "cell_type": "code",
   "execution_count": 5,
   "metadata": {
    "collapsed": false
   },
   "outputs": [
    {
     "name": "stdout",
     "output_type": "stream",
     "text": [
      "Extracting MNIST_data/train-images-idx3-ubyte.gz\n",
      "Extracting MNIST_data/train-labels-idx1-ubyte.gz\n",
      "Extracting MNIST_data/t10k-images-idx3-ubyte.gz\n",
      "Extracting MNIST_data/t10k-labels-idx1-ubyte.gz\n"
     ]
    }
   ],
   "source": [
    "from tensorflow.examples.tutorials.mnist import input_data\n",
    "mnist = input_data.read_data_sets(\"MNIST_data/\", one_hot=True)"
   ]
  },
  {
   "cell_type": "code",
   "execution_count": 3,
   "metadata": {
    "collapsed": false
   },
   "outputs": [
    {
     "data": {
      "text/plain": [
       "(55000, 28, 28, 1)"
      ]
     },
     "execution_count": 3,
     "metadata": {},
     "output_type": "execute_result"
    }
   ],
   "source": [
    "mnist.train.images.reshape(-1, 28, 28, 1).shape"
   ]
  },
  {
   "cell_type": "code",
   "execution_count": 6,
   "metadata": {
    "collapsed": false
   },
   "outputs": [],
   "source": [
    "with tf.device('/gpu:0'):\n",
    "    graph = tf.Graph()\n",
    "    with graph.as_default():\n",
    "\n",
    "      # Variables.\n",
    "      batch_size = 128  #mini batch for SGD\n",
    "      num_hidden = 1024\n",
    "      keep_prob=.5 #probability of dropout\n",
    "      image_size = 28\n",
    "      num_labels = 10\n",
    "      patch_size = 5\n",
    "      num_channels = 1 # grayscale\n",
    "      depth = 16\n",
    "    \n",
    "      def weight_variable(shape):\n",
    "        initial = tf.truncated_normal(shape, stddev=0.1)\n",
    "        return tf.Variable(initial)\n",
    "\n",
    "      def bias_variable(shape):\n",
    "        initial = tf.constant(0.1, shape=shape)\n",
    "        return tf.Variable(initial)\n",
    "\n",
    "      def conv2d(x, W):\n",
    "        return tf.nn.conv2d(x, W, strides=[1, 1, 1, 1], padding='SAME')\n",
    "\n",
    "      def max_pool_2x2(x):\n",
    "        return tf.nn.max_pool(x, ksize=[1, 2, 2, 1],strides=[1, 2, 2, 1], padding='SAME')\n",
    "\n",
    "    \n",
    "        \n",
    "\n",
    "      # Input data. For the training data, we use a placeholder that will be fed\n",
    "      # at run time with a training minibatch.\n",
    "      tf_train_dataset = tf.placeholder(tf.float32, shape=(batch_size, image_size, image_size, num_channels))\n",
    "      tf_train_labels = tf.placeholder(tf.float32, shape=(batch_size, num_labels))\n",
    "      tf_valid_dataset = tf.constant(mnist.validation.images.reshape(-1, 28, 28, 1))\n",
    "      tf_test_dataset = tf.constant(mnist.test.images.reshape(-1, 28, 28, 1))\n",
    "      keep_prob = tf.placeholder(tf.float32)\n",
    "   \n",
    "      W_conv1 = weight_variable([5, 5, 1, 32])\n",
    "      b_conv1 = bias_variable([32])\n",
    "      W_conv2 = weight_variable([5, 5, 32, 64])\n",
    "      b_conv2 = bias_variable([64])\n",
    "      W_fc1 = weight_variable([7 * 7 * 64, 1024])\n",
    "      b_fc1 = bias_variable([1024])\n",
    "      W_fc2 = weight_variable([1024, 10])\n",
    "      b_fc2 = bias_variable([10])\n",
    "        \n",
    "      \n",
    "\n",
    "      def model(data):\n",
    "            \"\"\"\n",
    "            Assembles the NN\n",
    "            \"\"\"\n",
    "            h_conv1 = tf.nn.relu(conv2d(data, W_conv1) + b_conv1)\n",
    "            h_pool1 = max_pool_2x2(h_conv1)\n",
    "            h_conv2 = tf.nn.relu(conv2d(h_pool1, W_conv2) + b_conv2)\n",
    "            h_pool2 = max_pool_2x2(h_conv2)\n",
    "            h_pool2_flat = tf.reshape(h_pool2, [-1, 7*7*64])\n",
    "            h_fc1 = tf.nn.relu(tf.matmul(h_pool2_flat, W_fc1) + b_fc1)\n",
    "            h_fc1_drop = tf.nn.dropout(h_fc1, keep_prob)\n",
    "            return tf.nn.softmax(tf.matmul(h_fc1_drop, W_fc2) + b_fc2)\n",
    "\n",
    "\n",
    "        \n",
    "\n",
    "           \n",
    "\n",
    "      # Training Computations\n",
    "      logits = model(tf_train_dataset)\n",
    "      loss = tf.reduce_mean(tf.nn.softmax_cross_entropy_with_logits(logits, tf_train_labels))\n",
    "\n",
    "      # Optimizer.\n",
    "      optimizer = tf.train.GradientDescentOptimizer(0.5).minimize(loss)\n",
    "\n",
    "      # Predictions for the training, validation, and test data.\n",
    "      train_prediction = tf.nn.softmax(logits)\n",
    "      valid_prediction = tf.nn.softmax(model(tf_valid_dataset))\n",
    "      test_prediction = tf.nn.softmax(model(tf_test_dataset))"
   ]
  },
  {
   "cell_type": "code",
   "execution_count": 7,
   "metadata": {
    "collapsed": true
   },
   "outputs": [],
   "source": [
    "def accuracy(predictions, labels):\n",
    "  return (100.0 * np.sum(np.argmax(predictions, 1) == np.argmax(labels, 1))\n",
    "          / predictions.shape[0])"
   ]
  },
  {
   "cell_type": "code",
   "execution_count": 8,
   "metadata": {
    "collapsed": false
   },
   "outputs": [
    {
     "name": "stdout",
     "output_type": "stream",
     "text": [
      "Initialized\n",
      "Minibatch loss at step 0: 2.372143\n",
      "Minibatch accuracy: 7.0%\n",
      "Validation accuracy: 9.2%\n",
      "Minibatch loss at step 500: 1.505286\n",
      "Minibatch accuracy: 95.3%\n",
      "Validation accuracy: 95.9%\n",
      "Minibatch loss at step 1000: 1.472796\n",
      "Minibatch accuracy: 99.2%\n",
      "Validation accuracy: 97.2%\n",
      "Minibatch loss at step 1500: 1.461226\n",
      "Minibatch accuracy: 100.0%\n",
      "Validation accuracy: 98.1%\n",
      "Minibatch loss at step 2000: 1.469493\n",
      "Minibatch accuracy: 99.2%\n",
      "Validation accuracy: 98.3%\n",
      "Minibatch loss at step 2500: 1.470077\n",
      "Minibatch accuracy: 99.2%\n",
      "Validation accuracy: 98.4%\n",
      "Minibatch loss at step 3000: 1.475248\n",
      "Minibatch accuracy: 98.4%\n",
      "Validation accuracy: 98.4%\n",
      "Minibatch loss at step 3500: 1.474362\n",
      "Minibatch accuracy: 98.4%\n",
      "Validation accuracy: 98.7%\n",
      "Minibatch loss at step 4000: 1.475252\n",
      "Minibatch accuracy: 98.4%\n",
      "Validation accuracy: 98.4%\n",
      "Minibatch loss at step 4500: 1.484994\n",
      "Minibatch accuracy: 97.7%\n",
      "Validation accuracy: 98.9%\n",
      "Minibatch loss at step 5000: 1.461155\n",
      "Minibatch accuracy: 100.0%\n",
      "Validation accuracy: 98.8%\n",
      "Minibatch loss at step 5500: 1.476451\n",
      "Minibatch accuracy: 98.4%\n",
      "Validation accuracy: 98.8%\n",
      "Minibatch loss at step 6000: 1.477032\n",
      "Minibatch accuracy: 98.4%\n",
      "Validation accuracy: 98.7%\n",
      "Minibatch loss at step 6500: 1.477568\n",
      "Minibatch accuracy: 98.4%\n",
      "Validation accuracy: 98.7%\n",
      "Minibatch loss at step 7000: 1.468941\n",
      "Minibatch accuracy: 99.2%\n",
      "Validation accuracy: 98.9%\n",
      "Minibatch loss at step 7500: 1.461176\n",
      "Minibatch accuracy: 100.0%\n",
      "Validation accuracy: 99.0%\n",
      "Minibatch loss at step 8000: 1.468939\n",
      "Minibatch accuracy: 99.2%\n",
      "Validation accuracy: 98.9%\n",
      "Test accuracy: 99.0%\n"
     ]
    }
   ],
   "source": [
    "num_steps = 8001\n",
    "\n",
    "with tf.Session(graph=graph, config=tf.ConfigProto(log_device_placement=True)) as session:\n",
    "  tf.initialize_all_variables().run()\n",
    "  print(\"Initialized\")\n",
    "  for step in range(num_steps):\n",
    " \n",
    "    # Generate a minibatch.\n",
    "    batch_data, batch_labels = mnist.train.next_batch(batch_size)\n",
    "    #reshape\n",
    "    batch_data = batch_data.reshape(-1, 28, 28, 1)\n",
    "\n",
    "    # Prepare a dictionary telling the session where to feed the minibatch.\n",
    "    # The key of the dictionary is the placeholder node of the graph to be fed,\n",
    "    # and the value is the numpy array to feed to it.\n",
    "    feed_dict = {tf_train_dataset : batch_data, tf_train_labels : batch_labels, keep_prob : 0.5}\n",
    "\n",
    "    _, l, predictions = session.run([optimizer, loss, train_prediction], feed_dict=feed_dict)\n",
    "    \n",
    "    if (step % 500 == 0):\n",
    "      print(\"Minibatch loss at step %d: %f\" % (step, l))\n",
    "      print(\"Minibatch accuracy: %.1f%%\" % accuracy(predictions, batch_labels))\n",
    "      print(\"Validation accuracy: %.1f%%\" % accuracy(valid_prediction.eval(feed_dict={keep_prob:1}), mnist.validation.labels))\n",
    "  print(\"Test accuracy: %.1f%%\" % accuracy(test_prediction.eval(feed_dict={keep_prob:1}), mnist.test.labels))"
   ]
  },
  {
   "cell_type": "code",
   "execution_count": null,
   "metadata": {
    "collapsed": true
   },
   "outputs": [],
   "source": []
  },
  {
   "cell_type": "code",
   "execution_count": null,
   "metadata": {
    "collapsed": true
   },
   "outputs": [],
   "source": []
  }
 ],
 "metadata": {
  "kernelspec": {
   "display_name": "Python 2",
   "language": "python",
   "name": "python2"
  },
  "language_info": {
   "codemirror_mode": {
    "name": "ipython",
    "version": 2
   },
   "file_extension": ".py",
   "mimetype": "text/x-python",
   "name": "python",
   "nbconvert_exporter": "python",
   "pygments_lexer": "ipython2",
   "version": "2.7.11"
  }
 },
 "nbformat": 4,
 "nbformat_minor": 0
}
