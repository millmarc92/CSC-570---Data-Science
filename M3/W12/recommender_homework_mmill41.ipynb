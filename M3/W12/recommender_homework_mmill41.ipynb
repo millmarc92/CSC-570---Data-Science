{
 "cells": [
  {
   "cell_type": "markdown",
   "metadata": {},
   "source": [
    "# Recommender\n",
    "Marcus Millender\n",
    "\n",
    "Recommender Homework\n",
    "* Step 1:  Download the recommender_homework.ipynb file from my git\n",
    "* Step 2:  Follow the instructions contained in that notebook\n",
    "* Step 3:  Submit your answers by sending a link to your github submission."
   ]
  },
  {
   "cell_type": "code",
   "execution_count": 1,
   "metadata": {
    "collapsed": false
   },
   "outputs": [],
   "source": [
    "import pandas as pd\n",
    "import numpy as np"
   ]
  },
  {
   "cell_type": "code",
   "execution_count": 2,
   "metadata": {
    "collapsed": false
   },
   "outputs": [],
   "source": [
    "#download the class movie reviews from here:\n",
    "#https://docs.google.com/spreadsheets/d/17rCJzmWxqvAu9rkpkgt4ToccIlY4A1Ffuu1W9X3B8Ag/\n",
    "#then read that in as a pandas dataframe"
   ]
  },
  {
   "cell_type": "code",
   "execution_count": 3,
   "metadata": {
    "collapsed": false
   },
   "outputs": [],
   "source": [
    "M = pd.read_csv(\"Movie Reviews.csv\", index_col='Name')"
   ]
  },
  {
   "cell_type": "code",
   "execution_count": 4,
   "metadata": {
    "collapsed": true
   },
   "outputs": [],
   "source": [
    "def pearson(s1, s2):\n",
    "    \"\"\"Take two pd.Series objects and return a pearson correlation.\"\"\"\n",
    "    s1_c = s1 - s1.mean()\n",
    "    s2_c = s2 - s2.mean()\n",
    "    return np.sum(s1_c * s2_c) / np.sqrt(np.sum(s1_c ** 2) * np.sum(s2_c ** 2))"
   ]
  },
  {
   "cell_type": "code",
   "execution_count": 5,
   "metadata": {
    "collapsed": false
   },
   "outputs": [],
   "source": [
    "def get_recs(movie_name, M, num):\n",
    "\n",
    "    import numpy as np\n",
    "    reviews = []\n",
    "    for title in M.columns:\n",
    "        if title == movie_name:\n",
    "            continue\n",
    "        cor = pearson(M[movie_name], M[title])\n",
    "        if np.isnan(cor):\n",
    "            continue\n",
    "        else:\n",
    "            reviews.append((title, cor))\n",
    "    \n",
    "    reviews.sort(key=lambda tup: tup[1], reverse=True)\n",
    "    return reviews[:num]\n",
    "\n",
    "    "
   ]
  },
  {
   "cell_type": "markdown",
   "metadata": {},
   "source": [
    "### Question 1:  What movie is most Similar to 'The fault in our stars' (60 pts)\n"
   ]
  },
  {
   "cell_type": "code",
   "execution_count": 6,
   "metadata": {
    "collapsed": false
   },
   "outputs": [],
   "source": [
    "recs = get_recs('The Fault in Our Stars', M, 1)"
   ]
  },
  {
   "cell_type": "code",
   "execution_count": 7,
   "metadata": {
    "collapsed": false
   },
   "outputs": [
    {
     "data": {
      "text/plain": [
       "[('Malificent', 0.19749425916269375)]"
      ]
     },
     "execution_count": 7,
     "metadata": {},
     "output_type": "execute_result"
    }
   ],
   "source": [
    "recs"
   ]
  },
  {
   "cell_type": "markdown",
   "metadata": {},
   "source": [
    "#### Answer 1: \n",
    "Based on the reviews, Malificent is most similar to 'The fault in our stars'"
   ]
  },
  {
   "cell_type": "markdown",
   "metadata": {},
   "source": [
    "### Question 2:  Which movie(s) would you most like to see, based on your classmates experience? (40 pts)"
   ]
  },
  {
   "cell_type": "code",
   "execution_count": 8,
   "metadata": {
    "collapsed": false
   },
   "outputs": [
    {
     "name": "stderr",
     "output_type": "stream",
     "text": [
      "C:\\Users\\millm_000\\Anaconda3\\lib\\site-packages\\ipykernel\\__main__.py:6: FutureWarning: sort is deprecated, use sort_values(inplace=True) for INPLACE sorting\n"
     ]
    }
   ],
   "source": [
    "#HINTS...\n",
    "\n",
    "#the movies I've seen\n",
    "my_ratings = M.ix['Marcus Millender'].dropna()\n",
    "#the movie I've rated the highest\n",
    "my_ratings.sort(ascending=False)\n",
    "#the name of the movie I've rated the highest\n",
    "fav_movie = my_ratings.index[0]"
   ]
  },
  {
   "cell_type": "code",
   "execution_count": 9,
   "metadata": {
    "collapsed": false
   },
   "outputs": [
    {
     "data": {
      "text/plain": [
       "Godzilla                                 5.0\n",
       "Big Hero 6                               5.0\n",
       "Malificent                               5.0\n",
       "Guardians of the Galaxy                  5.0\n",
       "300: Rise of an Empire                   4.0\n",
       "How to Train your Dragon 2               4.0\n",
       "Interstellar                             4.0\n",
       "The Hunger Games: Mockingjay - Part 1    4.0\n",
       "American Sniper                          4.0\n",
       "Divergent                                3.0\n",
       "Name: Marcus Millender, dtype: float64"
      ]
     },
     "execution_count": 9,
     "metadata": {},
     "output_type": "execute_result"
    }
   ],
   "source": [
    "my_ratings"
   ]
  },
  {
   "cell_type": "code",
   "execution_count": 10,
   "metadata": {
    "collapsed": false
   },
   "outputs": [
    {
     "data": {
      "text/plain": [
       "'Godzilla'"
      ]
     },
     "execution_count": 10,
     "metadata": {},
     "output_type": "execute_result"
    }
   ],
   "source": [
    "fav_movie\n",
    "# Actually, my favorite is Guardians of the Galaxy"
   ]
  },
  {
   "cell_type": "code",
   "execution_count": 11,
   "metadata": {
    "collapsed": true
   },
   "outputs": [],
   "source": [
    "recs = get_recs(fav_movie, M, 3)"
   ]
  },
  {
   "cell_type": "code",
   "execution_count": 12,
   "metadata": {
    "collapsed": false
   },
   "outputs": [
    {
     "data": {
      "text/plain": [
       "[('Transformers', 0.29963535888671367),\n",
       " ('Malificent', 0.28957046964673355),\n",
       " ('Interstellar', 0.18186793275523092)]"
      ]
     },
     "execution_count": 12,
     "metadata": {},
     "output_type": "execute_result"
    }
   ],
   "source": [
    "recs"
   ]
  },
  {
   "cell_type": "markdown",
   "metadata": {},
   "source": [
    "#### Answer 2: \n",
    "\n",
    "Based on my classmates experience, the top three movies I would most like to see are Trasformers, Malificent, and Interstellar.\n",
    "\n",
    "Tranformers\n",
    "   + Though I generally don't like the Transformers films after the first one, the second one killed it for me.  So I have not seen this or any other Transformers movie after the second. Maybe they got better?\n",
    "\n",
    "Malificent\n",
    "+ I can say that I enjoyed Malificent.  That is a good pick.\n",
    "\n",
    "Interstellar\n",
    "+ I did enjoy Interstellar as well, I could see it again."
   ]
  },
  {
   "cell_type": "markdown",
   "metadata": {},
   "source": [
    "## Question 3: Bonus Question...  \n",
    "#### For all the movies you haven't seen, can you predict how you'd rate them using your the class reviews? (10 pts)"
   ]
  },
  {
   "cell_type": "code",
   "execution_count": 13,
   "metadata": {
    "collapsed": false
   },
   "outputs": [],
   "source": [
    "# List the movies I haven't seen(True)\n",
    "have_not_seen = M.ix['Marcus Millender'].isnull()"
   ]
  },
  {
   "cell_type": "code",
   "execution_count": 14,
   "metadata": {
    "collapsed": false
   },
   "outputs": [
    {
     "data": {
      "text/plain": [
       "American Sniper                          False\n",
       "The Hunger Games: Mockingjay - Part 1    False\n",
       "Guardians of the Galaxy                  False\n",
       "The Lego Movie                            True\n",
       "The Hobbit                                True\n",
       "Transformers                              True\n",
       "Malificent                               False\n",
       "Big Hero 6                               False\n",
       "Godzilla                                 False\n",
       "Interstellar                             False\n",
       "How to Train your Dragon 2               False\n",
       "Gone Girl                                 True\n",
       "Divergent                                False\n",
       "The Fault in Our Stars                    True\n",
       "Unbroken                                  True\n",
       "300: Rise of an Empire                   False\n",
       "Name: Marcus Millender, dtype: bool"
      ]
     },
     "execution_count": 14,
     "metadata": {},
     "output_type": "execute_result"
    }
   ],
   "source": [
    "have_not_seen"
   ]
  },
  {
   "cell_type": "markdown",
   "metadata": {},
   "source": [
    "#### From the list of movies I have not seen 6 of the movies:\n",
    "\n",
    "* The Lego Movie\n",
    "* The Hobbit\n",
    "* Gone Girl\n",
    "* The Fault in Our Stars\n",
    "* Unbroken\n",
    "* Transformers"
   ]
  },
  {
   "cell_type": "code",
   "execution_count": 15,
   "metadata": {
    "collapsed": false
   },
   "outputs": [
    {
     "data": {
      "text/plain": [
       "Godzilla                                 5.0\n",
       "Big Hero 6                               5.0\n",
       "Malificent                               5.0\n",
       "Guardians of the Galaxy                  5.0\n",
       "300: Rise of an Empire                   4.0\n",
       "How to Train your Dragon 2               4.0\n",
       "Interstellar                             4.0\n",
       "The Hunger Games: Mockingjay - Part 1    4.0\n",
       "American Sniper                          4.0\n",
       "Divergent                                3.0\n",
       "Name: Marcus Millender, dtype: float64"
      ]
     },
     "execution_count": 15,
     "metadata": {},
     "output_type": "execute_result"
    }
   ],
   "source": [
    "my_ratings"
   ]
  },
  {
   "cell_type": "markdown",
   "metadata": {},
   "source": [
    "#### Answer 3: How I will predict the score\n",
    "From the class reviews, for the movies I haven't seen, I would predict the ratings of those movies by adding the (class average of movie 'X' I have seen) to the {[correlation of (a movie 'Y' I haven't seen) and (the move 'X' I have seen)] multiplied by the score of movie 'X' I have seen}\n",
    "\n",
    "+ The movie I will compare is '300: Rise of an Empire'"
   ]
  },
  {
   "cell_type": "markdown",
   "metadata": {},
   "source": [
    "#### Finding the correlation\n",
    "From the class reviews, for the movies I haven't seen, I would find the correlation of a movie I have seen and a movie I haven't seen in order to predict how I would rate them using pearson's r formula:\n",
    "$$r =  \\frac{\\sum {(x-\\overline{x})(y-\\overline{y})}}{\\sigma_x \\sigma_y}$$"
   ]
  },
  {
   "cell_type": "code",
   "execution_count": 16,
   "metadata": {
    "collapsed": false
   },
   "outputs": [],
   "source": [
    "def pearson(s1, s2):\n",
    "    \"\"\"Take two pd.Series objects and return a pearson correlation.\"\"\"\n",
    "    s1_c = s1 - s1.mean()\n",
    "    s2_c = s2 - s2.mean()\n",
    "    return np.sum(s1_c * s2_c) / np.sqrt(np.sum(s1_c ** 2) * np.sum(s2_c ** 2))"
   ]
  },
  {
   "cell_type": "markdown",
   "metadata": {},
   "source": [
    "### Correlation Between '300: Rise of an Empire' and movies I haven't seen\n",
    "+ Gone Girl\n",
    "+ The Fault in Our Stars\n",
    "+ The Hobbit\n",
    "+ The Lego Movie\n",
    "+ Transformers\n",
    "+ Unbroken"
   ]
  },
  {
   "cell_type": "code",
   "execution_count": 17,
   "metadata": {
    "collapsed": false
   },
   "outputs": [
    {
     "data": {
      "text/plain": [
       "0.071528915943837118"
      ]
     },
     "execution_count": 17,
     "metadata": {},
     "output_type": "execute_result"
    }
   ],
   "source": [
    "# Gone Girl\n",
    "pearson(M['300: Rise of an Empire'],M['Gone Girl'])"
   ]
  },
  {
   "cell_type": "code",
   "execution_count": 18,
   "metadata": {
    "collapsed": false
   },
   "outputs": [
    {
     "data": {
      "text/plain": [
       "-0.060677823554797582"
      ]
     },
     "execution_count": 18,
     "metadata": {},
     "output_type": "execute_result"
    }
   ],
   "source": [
    "# The Lego Movie\n",
    "pearson(M['300: Rise of an Empire'],M['The Fault in Our Stars'])"
   ]
  },
  {
   "cell_type": "code",
   "execution_count": 19,
   "metadata": {
    "collapsed": false
   },
   "outputs": [
    {
     "data": {
      "text/plain": [
       "0.068688456500578851"
      ]
     },
     "execution_count": 19,
     "metadata": {},
     "output_type": "execute_result"
    }
   ],
   "source": [
    "# The Hobbit\n",
    "pearson(M['300: Rise of an Empire'],M['The Hobbit'])"
   ]
  },
  {
   "cell_type": "code",
   "execution_count": 20,
   "metadata": {
    "collapsed": false
   },
   "outputs": [
    {
     "data": {
      "text/plain": [
       "-0.09423609620781144"
      ]
     },
     "execution_count": 20,
     "metadata": {},
     "output_type": "execute_result"
    }
   ],
   "source": [
    "# The Fault in Our Stars\n",
    "pearson(M['300: Rise of an Empire'],M['The Lego Movie'])"
   ]
  },
  {
   "cell_type": "code",
   "execution_count": 21,
   "metadata": {
    "collapsed": false
   },
   "outputs": [
    {
     "data": {
      "text/plain": [
       "0.15431721047503769"
      ]
     },
     "execution_count": 21,
     "metadata": {},
     "output_type": "execute_result"
    }
   ],
   "source": [
    "# Unbroken\n",
    "pearson(M['300: Rise of an Empire'],M['Transformers'])"
   ]
  },
  {
   "cell_type": "code",
   "execution_count": 22,
   "metadata": {
    "collapsed": false
   },
   "outputs": [
    {
     "data": {
      "text/plain": [
       "0.074996562323488239"
      ]
     },
     "execution_count": 22,
     "metadata": {},
     "output_type": "execute_result"
    }
   ],
   "source": [
    "# Tranformers\n",
    "pearson(M['300: Rise of an Empire'],M['Unbroken'])"
   ]
  },
  {
   "cell_type": "markdown",
   "metadata": {},
   "source": [
    "### Correlation of 'Gone Girl' compared to all other Moview in the class"
   ]
  },
  {
   "cell_type": "code",
   "execution_count": 23,
   "metadata": {
    "collapsed": false
   },
   "outputs": [
    {
     "data": {
      "text/plain": [
       "[('American Sniper', 0.18971907113548794),\n",
       " ('How to Train your Dragon 2', 0.18031524427791323),\n",
       " ('The Lego Movie', 0.097308292851919775),\n",
       " ('Godzilla', 0.092140716054608607),\n",
       " ('Unbroken', 0.087777110648472254),\n",
       " ('Divergent', 0.08167993251956171),\n",
       " ('300: Rise of an Empire', 0.071528915943837118),\n",
       " ('The Fault in Our Stars', 0.05273965622202393),\n",
       " ('Interstellar', 0.028765721530187933),\n",
       " ('Guardians of the Galaxy', -0.036988810702596082),\n",
       " ('Transformers', -0.088695578823622639),\n",
       " ('Big Hero 6', -0.10574073070010113),\n",
       " ('The Hobbit', -0.13315814167705803),\n",
       " ('The Hunger Games: Mockingjay - Part 1', -0.13702913879535111),\n",
       " ('Malificent', -0.19520803666955933)]"
      ]
     },
     "execution_count": 23,
     "metadata": {},
     "output_type": "execute_result"
    }
   ],
   "source": [
    "# Gone Girl\n",
    "unseen_1 = get_recs('Gone Girl', M, 16)\n",
    "unseen_1"
   ]
  },
  {
   "cell_type": "code",
   "execution_count": 24,
   "metadata": {
    "collapsed": false,
    "scrolled": true
   },
   "outputs": [
    {
     "data": {
      "text/plain": [
       "[('Malificent', 0.19749425916269375),\n",
       " ('Interstellar', 0.19712292369893003),\n",
       " ('Divergent', 0.14465573811263907),\n",
       " ('How to Train your Dragon 2', 0.14262156471653215),\n",
       " ('Guardians of the Galaxy', 0.13041089343894219),\n",
       " ('The Lego Movie', 0.083981926369952192),\n",
       " ('Unbroken', 0.06924931265846844),\n",
       " ('Gone Girl', 0.05273965622202393),\n",
       " ('The Hunger Games: Mockingjay - Part 1', 0.042352966198990802),\n",
       " ('Transformers', 0.007626920910922875),\n",
       " ('The Hobbit', -0.014562170243961364),\n",
       " ('Godzilla', -0.017978679468468192),\n",
       " ('300: Rise of an Empire', -0.060677823554797582),\n",
       " ('Big Hero 6', -0.083288293147851133),\n",
       " ('American Sniper', -0.087975224880283379)]"
      ]
     },
     "execution_count": 24,
     "metadata": {},
     "output_type": "execute_result"
    }
   ],
   "source": [
    "# The Fault in Our Stars\n",
    "unseen_2 = get_recs('The Fault in Our Stars', M, 16)\n",
    "unseen_2"
   ]
  },
  {
   "cell_type": "code",
   "execution_count": 25,
   "metadata": {
    "collapsed": false
   },
   "outputs": [
    {
     "data": {
      "text/plain": [
       "[('Transformers', 0.29295673089206298),\n",
       " ('Guardians of the Galaxy', 0.21347311873933966),\n",
       " ('Malificent', 0.14457089779668711),\n",
       " ('Divergent', 0.13806981588918271),\n",
       " ('The Hunger Games: Mockingjay - Part 1', 0.13679981633621771),\n",
       " ('The Lego Movie', 0.13104564268551494),\n",
       " ('Godzilla', 0.10195136004390756),\n",
       " ('Interstellar', 0.088633055989652515),\n",
       " ('300: Rise of an Empire', 0.068688456500578851),\n",
       " ('How to Train your Dragon 2', 0.061870745688616106),\n",
       " ('The Fault in Our Stars', -0.014562170243961364),\n",
       " ('American Sniper', -0.061362767142021504),\n",
       " ('Big Hero 6', -0.06397997043606074),\n",
       " ('Gone Girl', -0.13315814167705803),\n",
       " ('Unbroken', -0.17101304297470835)]"
      ]
     },
     "execution_count": 25,
     "metadata": {},
     "output_type": "execute_result"
    }
   ],
   "source": [
    "# The Hobbit\n",
    "unseen_3 = get_recs('The Hobbit', M, 16)\n",
    "unseen_3"
   ]
  },
  {
   "cell_type": "code",
   "execution_count": 26,
   "metadata": {
    "collapsed": false
   },
   "outputs": [
    {
     "data": {
      "text/plain": [
       "[('Guardians of the Galaxy', 0.40630056417316801),\n",
       " ('How to Train your Dragon 2', 0.22583645751392559),\n",
       " ('American Sniper', 0.18254986484255384),\n",
       " ('The Hobbit', 0.13104564268551494),\n",
       " ('Big Hero 6', 0.10569101716443542),\n",
       " ('Gone Girl', 0.097308292851919775),\n",
       " ('The Hunger Games: Mockingjay - Part 1', 0.095591088775192803),\n",
       " ('The Fault in Our Stars', 0.083981926369952192),\n",
       " ('Transformers', 0.043140080206105533),\n",
       " ('Godzilla', 0.041970869549338576),\n",
       " ('Interstellar', 0.033851976314638155),\n",
       " ('Divergent', 0.0023175740496638995),\n",
       " ('Malificent', -0.075474919195747267),\n",
       " ('300: Rise of an Empire', -0.09423609620781144),\n",
       " ('Unbroken', -0.13636935953252124)]"
      ]
     },
     "execution_count": 26,
     "metadata": {},
     "output_type": "execute_result"
    }
   ],
   "source": [
    "# The Lego Movie\n",
    "unseen_4 = get_recs('The Lego Movie', M, 16)\n",
    "unseen_4"
   ]
  },
  {
   "cell_type": "code",
   "execution_count": 27,
   "metadata": {
    "collapsed": false
   },
   "outputs": [
    {
     "data": {
      "text/plain": [
       "[('Godzilla', 0.29963535888671367),\n",
       " ('The Hobbit', 0.29295673089206298),\n",
       " ('Interstellar', 0.20269967999375937),\n",
       " ('Divergent', 0.19305229322936257),\n",
       " ('The Hunger Games: Mockingjay - Part 1', 0.1682881078619495),\n",
       " ('300: Rise of an Empire', 0.15431721047503769),\n",
       " ('How to Train your Dragon 2', 0.15283445206468496),\n",
       " ('Malificent', 0.12899645848120822),\n",
       " ('Big Hero 6', 0.067131377670649625),\n",
       " ('The Lego Movie', 0.043140080206105533),\n",
       " ('Unbroken', 0.023254066831753972),\n",
       " ('American Sniper', 0.020929828825806115),\n",
       " ('The Fault in Our Stars', 0.007626920910922875),\n",
       " ('Guardians of the Galaxy', -0.044927356787947938),\n",
       " ('Gone Girl', -0.088695578823622639)]"
      ]
     },
     "execution_count": 27,
     "metadata": {},
     "output_type": "execute_result"
    }
   ],
   "source": [
    "# Transformers\n",
    "unseen_5 = get_recs('Transformers', M, 16)\n",
    "unseen_5"
   ]
  },
  {
   "cell_type": "code",
   "execution_count": 28,
   "metadata": {
    "collapsed": false
   },
   "outputs": [
    {
     "data": {
      "text/plain": [
       "[('Divergent', 0.16612659382371495),\n",
       " ('Malificent', 0.14625631781343473),\n",
       " ('Gone Girl', 0.087777110648472254),\n",
       " ('Interstellar', 0.08493763888236304),\n",
       " ('Godzilla', 0.080353498077138555),\n",
       " ('300: Rise of an Empire', 0.074996562323488239),\n",
       " ('The Fault in Our Stars', 0.06924931265846844),\n",
       " ('Transformers', 0.023254066831753972),\n",
       " ('Big Hero 6', 0.010338098573443767),\n",
       " ('The Hunger Games: Mockingjay - Part 1', 0.0081914341546500315),\n",
       " ('How to Train your Dragon 2', -0.020864882870939724),\n",
       " ('Guardians of the Galaxy', -0.070334445276988428),\n",
       " ('The Lego Movie', -0.13636935953252124),\n",
       " ('American Sniper', -0.14355413959027591),\n",
       " ('The Hobbit', -0.17101304297470835)]"
      ]
     },
     "execution_count": 28,
     "metadata": {},
     "output_type": "execute_result"
    }
   ],
   "source": [
    "# Unbroken\n",
    "unseen_6 = get_recs('Unbroken', M, 16)\n",
    "unseen_6"
   ]
  },
  {
   "cell_type": "markdown",
   "metadata": {},
   "source": [
    "## The mean of all class reviews"
   ]
  },
  {
   "cell_type": "code",
   "execution_count": 29,
   "metadata": {
    "collapsed": false
   },
   "outputs": [
    {
     "name": "stderr",
     "output_type": "stream",
     "text": [
      "C:\\Users\\millm_000\\Anaconda3\\lib\\site-packages\\numpy\\lib\\function_base.py:3834: RuntimeWarning: Invalid value encountered in percentile\n",
      "  RuntimeWarning)\n"
     ]
    },
    {
     "data": {
      "text/html": [
       "<div>\n",
       "<table border=\"1\" class=\"dataframe\">\n",
       "  <thead>\n",
       "    <tr style=\"text-align: right;\">\n",
       "      <th></th>\n",
       "      <th>American Sniper</th>\n",
       "      <th>The Hunger Games: Mockingjay - Part 1</th>\n",
       "      <th>Guardians of the Galaxy</th>\n",
       "      <th>The Lego Movie</th>\n",
       "      <th>The Hobbit</th>\n",
       "      <th>Transformers</th>\n",
       "      <th>Malificent</th>\n",
       "      <th>Big Hero 6</th>\n",
       "      <th>Godzilla</th>\n",
       "      <th>Interstellar</th>\n",
       "      <th>How to Train your Dragon 2</th>\n",
       "      <th>Gone Girl</th>\n",
       "      <th>Divergent</th>\n",
       "      <th>The Fault in Our Stars</th>\n",
       "      <th>Unbroken</th>\n",
       "      <th>300: Rise of an Empire</th>\n",
       "    </tr>\n",
       "  </thead>\n",
       "  <tbody>\n",
       "    <tr>\n",
       "      <th>count</th>\n",
       "      <td>73.000000</td>\n",
       "      <td>83.000000</td>\n",
       "      <td>95.000000</td>\n",
       "      <td>64.000000</td>\n",
       "      <td>99.000000</td>\n",
       "      <td>100.000000</td>\n",
       "      <td>62.000000</td>\n",
       "      <td>55.000000</td>\n",
       "      <td>85.000000</td>\n",
       "      <td>85.000000</td>\n",
       "      <td>81.000000</td>\n",
       "      <td>65.000000</td>\n",
       "      <td>66.000000</td>\n",
       "      <td>43.000000</td>\n",
       "      <td>31.000000</td>\n",
       "      <td>87.000000</td>\n",
       "    </tr>\n",
       "    <tr>\n",
       "      <th>mean</th>\n",
       "      <td>4.239726</td>\n",
       "      <td>3.385542</td>\n",
       "      <td>3.868421</td>\n",
       "      <td>3.406250</td>\n",
       "      <td>3.968687</td>\n",
       "      <td>3.580000</td>\n",
       "      <td>3.379032</td>\n",
       "      <td>4.023636</td>\n",
       "      <td>3.475294</td>\n",
       "      <td>4.564706</td>\n",
       "      <td>3.753086</td>\n",
       "      <td>3.953846</td>\n",
       "      <td>3.289394</td>\n",
       "      <td>3.709302</td>\n",
       "      <td>3.661290</td>\n",
       "      <td>3.729885</td>\n",
       "    </tr>\n",
       "    <tr>\n",
       "      <th>std</th>\n",
       "      <td>0.697762</td>\n",
       "      <td>0.874173</td>\n",
       "      <td>0.812831</td>\n",
       "      <td>1.079664</td>\n",
       "      <td>0.877223</td>\n",
       "      <td>1.158456</td>\n",
       "      <td>0.903933</td>\n",
       "      <td>1.129235</td>\n",
       "      <td>0.976864</td>\n",
       "      <td>0.693457</td>\n",
       "      <td>0.905274</td>\n",
       "      <td>0.904516</td>\n",
       "      <td>0.813185</td>\n",
       "      <td>0.920873</td>\n",
       "      <td>0.943284</td>\n",
       "      <td>1.150845</td>\n",
       "    </tr>\n",
       "    <tr>\n",
       "      <th>min</th>\n",
       "      <td>3.000000</td>\n",
       "      <td>1.000000</td>\n",
       "      <td>2.000000</td>\n",
       "      <td>1.000000</td>\n",
       "      <td>1.000000</td>\n",
       "      <td>1.000000</td>\n",
       "      <td>0.000000</td>\n",
       "      <td>1.000000</td>\n",
       "      <td>1.000000</td>\n",
       "      <td>2.000000</td>\n",
       "      <td>1.000000</td>\n",
       "      <td>2.000000</td>\n",
       "      <td>1.000000</td>\n",
       "      <td>1.000000</td>\n",
       "      <td>2.000000</td>\n",
       "      <td>1.000000</td>\n",
       "    </tr>\n",
       "    <tr>\n",
       "      <th>25%</th>\n",
       "      <td>NaN</td>\n",
       "      <td>NaN</td>\n",
       "      <td>NaN</td>\n",
       "      <td>NaN</td>\n",
       "      <td>NaN</td>\n",
       "      <td>NaN</td>\n",
       "      <td>NaN</td>\n",
       "      <td>NaN</td>\n",
       "      <td>NaN</td>\n",
       "      <td>NaN</td>\n",
       "      <td>NaN</td>\n",
       "      <td>NaN</td>\n",
       "      <td>NaN</td>\n",
       "      <td>NaN</td>\n",
       "      <td>NaN</td>\n",
       "      <td>NaN</td>\n",
       "    </tr>\n",
       "    <tr>\n",
       "      <th>50%</th>\n",
       "      <td>NaN</td>\n",
       "      <td>NaN</td>\n",
       "      <td>NaN</td>\n",
       "      <td>NaN</td>\n",
       "      <td>NaN</td>\n",
       "      <td>NaN</td>\n",
       "      <td>NaN</td>\n",
       "      <td>NaN</td>\n",
       "      <td>NaN</td>\n",
       "      <td>NaN</td>\n",
       "      <td>NaN</td>\n",
       "      <td>NaN</td>\n",
       "      <td>NaN</td>\n",
       "      <td>NaN</td>\n",
       "      <td>NaN</td>\n",
       "      <td>NaN</td>\n",
       "    </tr>\n",
       "    <tr>\n",
       "      <th>75%</th>\n",
       "      <td>NaN</td>\n",
       "      <td>NaN</td>\n",
       "      <td>NaN</td>\n",
       "      <td>NaN</td>\n",
       "      <td>NaN</td>\n",
       "      <td>NaN</td>\n",
       "      <td>NaN</td>\n",
       "      <td>NaN</td>\n",
       "      <td>NaN</td>\n",
       "      <td>NaN</td>\n",
       "      <td>NaN</td>\n",
       "      <td>NaN</td>\n",
       "      <td>NaN</td>\n",
       "      <td>NaN</td>\n",
       "      <td>NaN</td>\n",
       "      <td>NaN</td>\n",
       "    </tr>\n",
       "    <tr>\n",
       "      <th>max</th>\n",
       "      <td>5.000000</td>\n",
       "      <td>5.000000</td>\n",
       "      <td>5.000000</td>\n",
       "      <td>5.000000</td>\n",
       "      <td>5.000000</td>\n",
       "      <td>5.000000</td>\n",
       "      <td>5.000000</td>\n",
       "      <td>5.000000</td>\n",
       "      <td>5.000000</td>\n",
       "      <td>5.000000</td>\n",
       "      <td>5.000000</td>\n",
       "      <td>5.000000</td>\n",
       "      <td>5.000000</td>\n",
       "      <td>5.000000</td>\n",
       "      <td>5.000000</td>\n",
       "      <td>5.000000</td>\n",
       "    </tr>\n",
       "  </tbody>\n",
       "</table>\n",
       "</div>"
      ],
      "text/plain": [
       "       American Sniper  The Hunger Games: Mockingjay - Part 1  \\\n",
       "count        73.000000                              83.000000   \n",
       "mean          4.239726                               3.385542   \n",
       "std           0.697762                               0.874173   \n",
       "min           3.000000                               1.000000   \n",
       "25%                NaN                                    NaN   \n",
       "50%                NaN                                    NaN   \n",
       "75%                NaN                                    NaN   \n",
       "max           5.000000                               5.000000   \n",
       "\n",
       "       Guardians of the Galaxy  The Lego Movie  The Hobbit  Transformers  \\\n",
       "count                95.000000       64.000000   99.000000    100.000000   \n",
       "mean                  3.868421        3.406250    3.968687      3.580000   \n",
       "std                   0.812831        1.079664    0.877223      1.158456   \n",
       "min                   2.000000        1.000000    1.000000      1.000000   \n",
       "25%                        NaN             NaN         NaN           NaN   \n",
       "50%                        NaN             NaN         NaN           NaN   \n",
       "75%                        NaN             NaN         NaN           NaN   \n",
       "max                   5.000000        5.000000    5.000000      5.000000   \n",
       "\n",
       "       Malificent  Big Hero 6   Godzilla  Interstellar  \\\n",
       "count   62.000000   55.000000  85.000000     85.000000   \n",
       "mean     3.379032    4.023636   3.475294      4.564706   \n",
       "std      0.903933    1.129235   0.976864      0.693457   \n",
       "min      0.000000    1.000000   1.000000      2.000000   \n",
       "25%           NaN         NaN        NaN           NaN   \n",
       "50%           NaN         NaN        NaN           NaN   \n",
       "75%           NaN         NaN        NaN           NaN   \n",
       "max      5.000000    5.000000   5.000000      5.000000   \n",
       "\n",
       "       How to Train your Dragon 2  Gone Girl  Divergent  \\\n",
       "count                   81.000000  65.000000  66.000000   \n",
       "mean                     3.753086   3.953846   3.289394   \n",
       "std                      0.905274   0.904516   0.813185   \n",
       "min                      1.000000   2.000000   1.000000   \n",
       "25%                           NaN        NaN        NaN   \n",
       "50%                           NaN        NaN        NaN   \n",
       "75%                           NaN        NaN        NaN   \n",
       "max                      5.000000   5.000000   5.000000   \n",
       "\n",
       "       The Fault in Our Stars   Unbroken  300: Rise of an Empire  \n",
       "count               43.000000  31.000000               87.000000  \n",
       "mean                 3.709302   3.661290                3.729885  \n",
       "std                  0.920873   0.943284                1.150845  \n",
       "min                  1.000000   2.000000                1.000000  \n",
       "25%                       NaN        NaN                     NaN  \n",
       "50%                       NaN        NaN                     NaN  \n",
       "75%                       NaN        NaN                     NaN  \n",
       "max                  5.000000   5.000000                5.000000  "
      ]
     },
     "execution_count": 29,
     "metadata": {},
     "output_type": "execute_result"
    }
   ],
   "source": [
    "M.describe()"
   ]
  },
  {
   "cell_type": "markdown",
   "metadata": {},
   "source": [
    "### Calculation of score prediction\n",
    "Predicted Scores:\n",
    "+ Gone Girl: 3.5\n",
    "+ The Fault in Our Stars: 3.5\n",
    "+ The Hobbit: 3.5\n",
    "+ The Lego Movie: 3.5\n",
    "+ Transformers: 3.5\n",
    "+ Unbroken: 3.5\n",
    "\n",
    "My calclations of my scores can be found at:\n",
    "+ https://github.com/millmarc92/CSC-570---Data-Science/blob/master/M3/W12/Recommender_Q3.xlsx"
   ]
  },
  {
   "cell_type": "code",
   "execution_count": null,
   "metadata": {
    "collapsed": true
   },
   "outputs": [],
   "source": []
  }
 ],
 "metadata": {
  "anaconda-cloud": {},
  "kernelspec": {
   "display_name": "Python [default]",
   "language": "python",
   "name": "python3"
  },
  "language_info": {
   "codemirror_mode": {
    "name": "ipython",
    "version": 3
   },
   "file_extension": ".py",
   "mimetype": "text/x-python",
   "name": "python",
   "nbconvert_exporter": "python",
   "pygments_lexer": "ipython3",
   "version": "3.5.2"
  }
 },
 "nbformat": 4,
 "nbformat_minor": 0
}
